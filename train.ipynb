{
 "cells": [
  {
   "cell_type": "code",
   "execution_count": null,
   "metadata": {
    "collapsed": true
   },
   "outputs": [],
   "source": [
    "!pip install pyvi\n",
    "from sklearn.base import BaseEstimator, TransformerMixin\n",
    "import re\n",
    "from sklearn.naive_bayes import MultinomialNB\n",
    "from sklearn.pipeline import Pipeline\n",
    "from sklearn.feature_extraction.text import CountVectorizer\n",
    "from sklearn.feature_extraction.text import TfidfTransformer\n",
    "from sklearn.model_selection import train_test_split\n",
    "from sklearn.metrics import accuracy_score\n",
    "import time\n",
    "import os\n",
    "import pickle"
   ]
  },
  {
   "cell_type": "code",
   "execution_count": null,
   "metadata": {},
   "outputs": [],
   "source": [
    "def load_stop_words(fn):\n",
    "    with open(fn, mode='r', encoding='utf8') as f:\n",
    "        words = f.read()\n",
    "        f.close()\n",
    "    return words.split('\\n')"
   ]
  },
  {
   "cell_type": "code",
   "execution_count": null,
   "metadata": {},
   "outputs": [],
   "source": [
    "class FileReader:\n",
    "    def __init__(self, file_path):\n",
    "        self.file_path = file_path\n",
    "\n",
    "    def load_data(self, is_contain_labels=True):\n",
    "        with open(self.file_path, mode='r', encoding='utf8') as f:\n",
    "            lines = f.readlines()\n",
    "            f.close()\n",
    "        if is_contain_labels:\n",
    "            X, y = [], []\n",
    "            for line in lines:\n",
    "                line = line.strip()\n",
    "                if line == '':\n",
    "                    continue\n",
    "                s = line.strip().split('\\t')\n",
    "                X.append(s[0])\n",
    "                y.append(s[1])\n",
    "            return X, y\n",
    "        else:\n",
    "            return lines\n"
   ]
  },
  {
   "cell_type": "code",
   "execution_count": null,
   "metadata": {},
   "outputs": [],
   "source": [
    "class FeaturesTransformer(BaseEstimator, TransformerMixin):\n",
    "    def __init__(self, stop_words_fn):\n",
    "        self.tokenizer = ViTokenizer()\n",
    "        self.SPECIAL_CHARACTER = '0123456789%@$.,=+-!;/()*\"&^:#|\\n\\t\\''\n",
    "        self.STOP_WORDS = load_stop_words(stop_words_fn)\n",
    "\n",
    "    def fit(self, *_):\n",
    "        return self\n",
    "\n",
    "    def remove_stop_words(self, text):\n",
    "        return ' '.join([token for token in re.split('\\\\s+', text) if\n",
    "                         token not in self.STOP_WORDS and token not in self.SPECIAL_CHARACTER])\n",
    "\n",
    "    def transform(self, X, y=None, **fit_params):\n",
    "        return [self.remove_stop_words(self.tokenizer.tokenize(x)) for x in X]"
   ]
  },
  {
   "cell_type": "code",
   "execution_count": null,
   "metadata": {},
   "outputs": [],
   "source": [
    "class NaiveBayesModel(object):\n",
    "    def __init__(self):\n",
    "        self.clf = self._init_pipeline()\n",
    "\n",
    "    @staticmethod\n",
    "    def _init_pipeline():\n",
    "        pipeline = Pipeline([\n",
    "            (\"features_transformer\", FeaturesTransformer('vietnamese-stopwords/vietnamese-stopwords-dash.txt')),\n",
    "            ('bow', CountVectorizer()),\n",
    "            ('tfidf', TfidfTransformer()),\n",
    "            ('clf', MultinomialNB())\n",
    "        ])\n",
    "        return pipeline"
   ]
  },
  {
   "cell_type": "code",
   "execution_count": null,
   "metadata": {},
   "outputs": [],
   "source": [
    "def main():\n",
    "    folder = '/dataset'\n",
    "    for directory in os.listdir(folder):\n",
    "        print(time.asctime())\n",
    "        data_fn = f'{folder}/{directory}/data.txt'\n",
    "        X, y = FileReader(data_fn).load_data()\n",
    "        X_train, X_test, y_train, y_test = train_test_split(X, y, test_size=0.3)\n",
    "\n",
    "        # Fit model\n",
    "        model = NaiveBayesModel()\n",
    "        model.clf.fit(X_train, y_train)\n",
    "\n",
    "        # Test\n",
    "        y_pred = model.clf.predict(X_test)\n",
    "        print(\"Accuracy of title is %.2f %%\" % accuracy_score(y_test, y_pred))\n",
    "\n",
    "        #Saving model\n",
    "        with open(f'models/{directory}_nb.pickle', mode='wb') as f:\n",
    "            pickle.dump(model, f)\n",
    "            f.close()\n",
    "\n",
    "        print(time.asctime())"
   ]
  },
  {
   "cell_type": "code",
   "execution_count": null,
   "metadata": {},
   "outputs": [],
   "source": [
    "main()"
   ]
  }
 ],
 "metadata": {
  "kernelspec": {
   "display_name": "Python 2",
   "language": "python",
   "name": "python2"
  },
  "language_info": {
   "codemirror_mode": {
    "name": "ipython",
    "version": 2
   },
   "file_extension": ".py",
   "mimetype": "text/x-python",
   "name": "python",
   "nbconvert_exporter": "python",
   "pygments_lexer": "ipython2",
   "version": "2.7.6"
  }
 },
 "nbformat": 4,
 "nbformat_minor": 0
}
